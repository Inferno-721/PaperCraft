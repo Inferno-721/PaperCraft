{
 "cells": [
  {
   "cell_type": "code",
   "execution_count": 1,
   "id": "46a0fe2b",
   "metadata": {},
   "outputs": [
    {
     "name": "stdout",
     "output_type": "stream",
     "text": [
      "0.0.15\n"
     ]
    }
   ],
   "source": [
    "# Import required modules and initialize the builder from open_deep_research\n",
    "import uuid \n",
    "import os, getpass\n",
    "import open_deep_research   \n",
    "print(open_deep_research.__version__) \n",
    "from IPython.display import Image, display, Markdown\n",
    "from langgraph.types import Command\n",
    "from langgraph.checkpoint.memory import MemorySaver\n",
    "from open_deep_research.graph import builder\n",
    "import requests\n",
    "import json\n",
    "from typing import Dict, Any, List"
   ]
  },
  {
   "cell_type": "code",
   "execution_count": 2,
   "id": "83bc2cb8",
   "metadata": {},
   "outputs": [],
   "source": [
    "memory = MemorySaver()\n",
    "graph = builder.compile(checkpointer=memory)"
   ]
  },
  {
   "cell_type": "code",
   "execution_count": 3,
   "id": "24d84fc3",
   "metadata": {},
   "outputs": [],
   "source": [
    "def _set_env(var: str):\n",
    "    if not os.environ.get(var):\n",
    "        os.environ[var] = getpass.getpass(f\"{var}: \")\n",
    "\n",
    "# _set_env(\"OPENAI_API_KEY\")\n",
    "# _set_env(\"ANTHROPIC_API_KEY\")\n",
    "_set_env(\"TAVILY_API_KEY\")\n",
    "_set_env(\"GROQ_API_KEY\")\n",
    "# _set_env(\"PERPLEXITY_API_KEY\")"
   ]
  },
  {
   "cell_type": "code",
   "execution_count": 4,
   "id": "d7181f20",
   "metadata": {},
   "outputs": [],
   "source": [
    "def get_search_results(query: str, max_results: int = 3) -> List[Dict[str, Any]]:\n",
    "    \"\"\"Get search results from Tavily API directly\"\"\"\n",
    "    tavily_api_key = os.environ.get(\"TAVILY_API_KEY\")\n",
    "    if not tavily_api_key:\n",
    "        raise ValueError(\"TAVILY_API_KEY is not set in environment variables\")\n",
    "        \n",
    "    search_url = \"https://api.tavily.com/search\"\n",
    "    search_params = {\n",
    "        \"api_key\": tavily_api_key,\n",
    "        \"query\": query,\n",
    "        \"search_depth\": \"basic\",\n",
    "        \"max_results\": max_results\n",
    "    }\n",
    "    \n",
    "    try:\n",
    "        search_response = requests.post(search_url, json=search_params)\n",
    "        search_response.raise_for_status()  # Raise exception for HTTP errors\n",
    "        search_data = search_response.json()\n",
    "        \n",
    "        if \"results\" in search_data:\n",
    "            return search_data[\"results\"]\n",
    "        else:\n",
    "            print(f\"Unexpected search response format: {search_data}\")\n",
    "            return []\n",
    "    except requests.exceptions.RequestException as e:\n",
    "        print(f\"Search API error: {str(e)}\")\n",
    "        return []\n"
   ]
  },
  {
   "cell_type": "code",
   "execution_count": 5,
   "id": "c84e99b5",
   "metadata": {},
   "outputs": [],
   "source": [
    "def generate_report(search_results: List[Dict[str, Any]], topic: str) -> str:\n",
    "    \"\"\"Generate report using Groq API directly\"\"\"\n",
    "    groq_api_key = os.environ.get(\"GROQ_API_KEY\")\n",
    "    if not groq_api_key:\n",
    "        raise ValueError(\"GROQ_API_KEY is not set in environment variables\")\n",
    "        \n",
    "    groq_url = \"https://api.groq.com/openai/v1/chat/completions\"\n",
    "    groq_headers = {\n",
    "        \"Authorization\": f\"Bearer {groq_api_key}\",\n",
    "        \"Content-Type\": \"application/json\"\n",
    "    }\n",
    "    \n",
    "    # Format search results for the prompt\n",
    "    formatted_results = \"\"\n",
    "    for i, result in enumerate(search_results, 1):\n",
    "        title = result.get(\"title\", \"Untitled Source\")\n",
    "        url = result.get(\"url\", \"No URL provided\")\n",
    "        content_snippet = result.get(\"content\", \"\")[:200]  # First 200 chars of content\n",
    "        formatted_results += f\"Source {i}: {title}\\nURL: {url}\\nExcerpt: {content_snippet}...\\n\\n\"\n",
    "    \n",
    "    # Create a more structured prompt\n",
    "    prompt = f\"\"\"Based on these search results about {topic}, create a concise report following this structure:\n",
    "\n",
    "1. Introduction (20 sentences)\n",
    "   - Brief overview of {topic}\n",
    "\n",
    "2. Key Concepts (34 bullet points)\n",
    "   - Main ideas related to {topic}\n",
    "\n",
    "3. Applications or Implications (23 sentences)\n",
    "   - How {topic} is being used or its importance\n",
    "\n",
    "4. Summary Table or List\n",
    "   - A concise summary of the main points\n",
    "\n",
    "SEARCH RESULTS:\n",
    "{formatted_results}\n",
    "\n",
    "Keep your total response under 300 lines.\"\"\"\n",
    "    \n",
    "    groq_data = {\n",
    "        \"model\": \"meta-llama/llama-4-scout-17b-16e-instruct\",  # Updated to use a more capable model\n",
    "        \"messages\": [\n",
    "            {\"role\": \"system\", \"content\": \"You create concise, factual reports based on provided search results.\"},\n",
    "            {\"role\": \"user\", \"content\": prompt}\n",
    "        ],\n",
    "        \"max_tokens\": 1000,\n",
    "        \"temperature\": 0.3\n",
    "    }\n",
    "    \n",
    "    try:\n",
    "        groq_response = requests.post(groq_url, headers=groq_headers, json=groq_data)\n",
    "        groq_response.raise_for_status()  # Raise exception for HTTP errors\n",
    "        groq_data = groq_response.json()\n",
    "        \n",
    "        if \"choices\" in groq_data and len(groq_data[\"choices\"]) > 0:\n",
    "            result = groq_data[\"choices\"][0][\"message\"][\"content\"]\n",
    "            return result\n",
    "        else:\n",
    "            error_msg = f\"Unexpected Groq API response: {groq_data}\"\n",
    "            print(error_msg)\n",
    "            return error_msg\n",
    "    except requests.exceptions.RequestException as e:\n",
    "        error_msg = f\"Groq API error: {str(e)}\"\n",
    "        print(error_msg)\n",
    "        return error_msg"
   ]
  },
  {
   "cell_type": "code",
   "execution_count": 6,
   "id": "26078110",
   "metadata": {},
   "outputs": [
    {
     "name": "stdout",
     "output_type": "stream",
     "text": [
      "Searching for information about 'Gredient Ascent'...\n",
      "Found 3 search results. Generating report...\n"
     ]
    },
    {
     "data": {
      "text/markdown": [
       "# Report on Gredient Ascent\n",
       "\n",
       "**Introduction**\n",
       "\n",
       "Gradient Ascent is an optimization algorithm used to find the local maximum of a function. It is a variation of the Gradient Descent algorithm, but instead of minimizing a function, it maximizes it. The algorithm iteratively updates the parameters of the function in the direction of the gradient, which points towards the local maximum. Gradient Ascent is used in various machine learning applications, particularly in optimization problems. The concept of Gradient Ascent is essential in understanding its applications and differences with Gradient Descent. Gradient Ascent is also known as Gradient Ascension. The algorithm is simple to implement and can be used for both linear and non-linear functions. Gradient Ascent has various applications in data science and machine learning. The algorithm is based on the concept of gradients and derivatives. The gradient of a function represents the rate of change of the function with respect to its parameters. Gradient Ascent uses this gradient to update the parameters of the function. The algorithm is widely used in various fields, including computer science, mathematics, and engineering. Gradient Ascent has several advantages, including simplicity and efficiency. However, it also has some limitations, such as getting stuck in local maxima. Despite these limitations, Gradient Ascent remains a popular optimization algorithm. The algorithm can be used for both convex and non-convex functions. Gradient Ascent is an essential tool for data scientists and machine learning engineers. The algorithm has various applications in real-world problems. Gradient Ascent is used in optimization problems, such as maximizing a likelihood function. The algorithm is also used in linear regression and other machine learning models.\n",
       "\n",
       "**Key Concepts**\n",
       "\n",
       "* Gradient Ascent is an optimization algorithm\n",
       "* Used to find the local maximum of a function\n",
       "* Variation of Gradient Descent algorithm\n",
       "* Updates parameters in the direction of the gradient\n",
       "* Gradient points towards the local maximum\n",
       "* Used in machine learning applications\n",
       "* Particularly in optimization problems\n",
       "* Simple to implement\n",
       "* Can be used for linear and non-linear functions\n",
       "* Based on gradients and derivatives\n",
       "* Gradient represents rate of change of the function\n",
       "* Updates parameters using the gradient\n",
       "* Widely used in computer science, mathematics, and engineering\n",
       "* Has several advantages, including simplicity and efficiency\n",
       "* Can get stuck in local maxima\n",
       "* Used for convex and non-convex functions\n",
       "* Essential tool for data scientists and machine learning engineers\n",
       "* Applications in real-world problems\n",
       "* Used in optimization problems, such as maximizing a likelihood function\n",
       "* Used in linear regression and other machine learning models\n",
       "* Takes steps proportional to the gradient\n",
       "* Approaches a local maximum of the function\n",
       "* Difference with Gradient Descent: direction of update\n",
       "* Gradient Ascent: maximize a function\n",
       "* Gradient Descent: minimize a function\n",
       "\n",
       "**Applications or Implications**\n",
       "\n",
       "Gradient Ascent has various applications in machine learning and data science. It is used in optimization problems, such as maximizing a likelihood function. The algorithm is also used in linear regression and other machine learning models. Gradient Ascent is used in real-world problems, such as computer vision and natural language processing. The algorithm has several implications, including simplicity and efficiency. However, it also has some limitations, such as getting stuck in local maxima. Despite these limitations, Gradient Ascent remains a popular optimization algorithm. The algorithm can be used for both convex and non-convex functions. Gradient Ascent is an essential tool for data scientists and machine learning engineers. The algorithm has various applications in fields, including computer science, mathematics, and engineering. Gradient Ascent is used in various machine learning applications, particularly in optimization problems. The algorithm is widely used due to its simplicity and efficiency. Gradient Ascent has several applications in data analysis and machine learning. The algorithm is used in various industries, including finance and healthcare. Gradient Ascent has several implications for data scientists and machine learning engineers.\n",
       "\n",
       "**Summary Table or List**\n",
       "\n",
       "| **Concept** | **Description** |\n",
       "| --- | --- |\n",
       "| Gradient Ascent | Optimization algorithm to find local maximum |\n",
       "| Gradient Descent | Optimization algorithm to find local minimum |\n",
       "| Gradient | Rate of change of the function |\n",
       "| Local Maximum | Maximum value of the function in a neighborhood |\n",
       "| Machine Learning | Applications in optimization problems, linear regression |\n",
       "| Data Science | Applications in data analysis, computer vision, NLP |\n",
       "| Advantages | Simplicity, efficiency |\n",
       "| Limitations | Getting stuck in local maxima |"
      ],
      "text/plain": [
       "<IPython.core.display.Markdown object>"
      ]
     },
     "metadata": {},
     "output_type": "display_data"
    },
    {
     "data": {
      "text/markdown": [
       "## Sources\n",
       "\n",
       "1. [Gradient Ascent - OpenGenus IQ](https://iq.opengenus.org/gradient-ascent/)\n",
       "2. [Gradient Ascent: When to use it in machine learning?](https://analyticsindiamag.com/ai-trends/gradient-ascent-when-to-use-it-in-machine-learning/)\n",
       "3. [PDF](https://web.stanford.edu/class/archive/cs/cs109/cs109.1208/lectures/24_gradient_ascent.pdf)\n"
      ],
      "text/plain": [
       "<IPython.core.display.Markdown object>"
      ]
     },
     "metadata": {},
     "output_type": "display_data"
    }
   ],
   "source": [
    "\n",
    "# def set_env(var: str):\n",
    "#     if not os.environ.get(var):\n",
    "#         os.environ[var] = getpass.getpass(f\"{var}: \")\n",
    "\n",
    "# # Set necessary API keys\n",
    "# set_env(\"TAVILY_API_KEY\")\n",
    "# set_env(\"GROQ_API_KEY\")\n",
    "\n",
    "# Main execution function\n",
    "def run_research(topic: str, search_query: str = None):\n",
    "    \"\"\"Run the research pipeline for a given topic\"\"\"\n",
    "    if search_query is None:\n",
    "        search_query = f\"{topic} explanation concepts applications\"\n",
    "        \n",
    "    print(f\"Searching for information about '{topic}'...\")\n",
    "    search_results = get_search_results(search_query, max_results=3)\n",
    "\n",
    "    if search_results:\n",
    "        print(f\"Found {len(search_results)} search results. Generating report...\")\n",
    "        report = generate_report(search_results, topic)\n",
    "        display(Markdown(f\"# Report on {topic}\\n\\n{report}\"))\n",
    "        \n",
    "        # Display sources\n",
    "        sources_md = \"## Sources\\n\\n\"\n",
    "        for i, result in enumerate(search_results, 1):\n",
    "            title = result.get(\"title\", \"Untitled\")\n",
    "            url = result.get(\"url\", \"#\")\n",
    "            sources_md += f\"{i}. [{title}]({url})\\n\"\n",
    "        \n",
    "        display(Markdown(sources_md))\n",
    "    else:\n",
    "        print(\"No search results found. Please check your Tavily API key and try again.\")\n",
    "\n",
    "\n",
    "# Example usage\n",
    "if __name__ == \"__main__\":\n",
    "    run_research(\"Gredient Ascent\")"
   ]
  }
 ],
 "metadata": {
  "kernelspec": {
   "display_name": "meraenv",
   "language": "python",
   "name": "python3"
  },
  "language_info": {
   "codemirror_mode": {
    "name": "ipython",
    "version": 3
   },
   "file_extension": ".py",
   "mimetype": "text/x-python",
   "name": "python",
   "nbconvert_exporter": "python",
   "pygments_lexer": "ipython3",
   "version": "3.11.4"
  }
 },
 "nbformat": 4,
 "nbformat_minor": 5
}
